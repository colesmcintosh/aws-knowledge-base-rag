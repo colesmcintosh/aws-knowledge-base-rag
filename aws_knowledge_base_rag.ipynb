{
  "cells": [
    {
      "cell_type": "markdown",
      "metadata": {
        "id": "view-in-github",
        "colab_type": "text"
      },
      "source": [
        "<a href=\"https://colab.research.google.com/github/colesmcintosh/aws-knowledge-base-rag/blob/main/aws_knowledge_base_rag.ipynb\" target=\"_parent\"><img src=\"https://colab.research.google.com/assets/colab-badge.svg\" alt=\"Open In Colab\"/></a>"
      ]
    },
    {
      "cell_type": "markdown",
      "id": "6d135cdb",
      "metadata": {
        "id": "6d135cdb"
      },
      "source": [
        "\n",
        "# Querying a Knowledge Base with AWS Bedrock\n",
        "\n",
        "This notebook demonstrates how to query an AWS Bedrock Knowledge Base using the `RetrieveAndGenerate` API.\n",
        "\n",
        "## Prerequisites\n",
        "- Install Boto3: `pip install boto3`\n",
        "- Set up AWS credentials (e.g., via the AWS CLI or environment variables).\n",
        "- Have an AWS Bedrock Knowledge Base configured.\n",
        "- Replace placeholder values with your actual AWS identifiers (e.g., `knowledge_base_id`, `model_arn`).\n",
        "\n",
        "## Overview\n",
        "- Initialize the AWS Bedrock Runtime client.\n",
        "- Retrieve the list of available foundation models.\n",
        "- Send a query to the Knowledge Base.\n",
        "- Parse and display the response in a readable format.\n"
      ]
    },
    {
      "cell_type": "code",
      "source": [
        "!pip install boto3"
      ],
      "metadata": {
        "id": "kXsHw05mM_qt"
      },
      "id": "kXsHw05mM_qt",
      "execution_count": null,
      "outputs": []
    },
    {
      "cell_type": "code",
      "execution_count": 2,
      "id": "a8b56d89",
      "metadata": {
        "id": "a8b56d89"
      },
      "outputs": [],
      "source": [
        "import boto3\n",
        "import json\n",
        "from google.colab import userdata"
      ]
    },
    {
      "cell_type": "markdown",
      "id": "f4eb50ea",
      "metadata": {
        "id": "f4eb50ea"
      },
      "source": [
        "## Initialize the AWS Bedrock Client\n",
        "\n",
        "Create a Boto3 client for AWS Bedrock. Adjust the region as needed."
      ]
    },
    {
      "cell_type": "code",
      "execution_count": 3,
      "id": "db6a35ea",
      "metadata": {
        "id": "db6a35ea"
      },
      "outputs": [],
      "source": [
        "# Prompt the user for credentials if not set in environment variables\n",
        "aws_access_key_id = userdata.get(\"AWS_ACCESS_KEY\") or input(\"AWS_ACCESS_KEY: \")\n",
        "aws_secret_access_key = userdata.get(\"AWS_SECRET_KEY\") or input(\"AWS_SECRET_KEY: \")\n",
        "aws_knowledge_base_id = userdata.get(\"AWS_KNOWLEDGE_BASE_ID\") or input(\"AWS_KNOWLEDGE_BASE_ID: \")\n",
        "\n",
        "# Initialize the Bedrock Runtime client\n",
        "runtime_client = boto3.client(\n",
        "    'bedrock-agent-runtime',\n",
        "    region_name='us-west-2',\n",
        "    aws_access_key_id=aws_access_key_id,\n",
        "    aws_secret_access_key=aws_secret_access_key\n",
        ")\n",
        "\n",
        "# Initialize the Bedrock client to list foundation models\n",
        "client = boto3.client(\n",
        "    'bedrock',\n",
        "    region_name='us-west-2',\n",
        "    aws_access_key_id=aws_access_key_id,\n",
        "    aws_secret_access_key=aws_secret_access_key\n",
        ")"
      ]
    },
    {
      "cell_type": "markdown",
      "id": "a53c1bd7",
      "metadata": {
        "id": "a53c1bd7"
      },
      "source": [
        "## Retrieve Available Foundation Models\n",
        "\n",
        "Fetch the list of available foundation models in AWS Bedrock."
      ]
    },
    {
      "cell_type": "code",
      "execution_count": null,
      "id": "f3691d0d",
      "metadata": {
        "id": "f3691d0d"
      },
      "outputs": [],
      "source": [
        "models = client.list_foundation_models()[\"modelSummaries\"]\n",
        "json.dumps(models, indent=4)"
      ]
    },
    {
      "cell_type": "markdown",
      "id": "b7f82c6b",
      "metadata": {
        "id": "b7f82c6b"
      },
      "source": [
        "## Define Query Parameters\n",
        "\n",
        "Set up the knowledge base ID, model ARN, and the question to query."
      ]
    },
    {
      "cell_type": "code",
      "execution_count": 5,
      "id": "d54c3fe2",
      "metadata": {
        "colab": {
          "base_uri": "https://localhost:8080/"
        },
        "id": "d54c3fe2",
        "outputId": "22ab5d8d-5b6b-44c4-e601-f47fb2a6561a"
      },
      "outputs": [
        {
          "name": "stdout",
          "output_type": "stream",
          "text": [
            "Question: What does Cole specialize in?\n"
          ]
        }
      ],
      "source": [
        "\n",
        "question = input(\"Question: \")\n",
        "model_arn = userdata.get(\"AWS_MODEL_ARN\") or input(\"AWS_MODEL_ARN: \")  # User must provide the model ARN\n",
        "\n",
        "# Construct the payload for the RetrieveAndGenerate API call\n",
        "payload = {\n",
        "    \"input\": {\n",
        "        \"text\": question\n",
        "    },\n",
        "    \"retrieveAndGenerateConfiguration\": {\n",
        "        \"knowledgeBaseConfiguration\": {\n",
        "            \"knowledgeBaseId\": aws_knowledge_base_id,\n",
        "            \"modelArn\": model_arn\n",
        "        },\n",
        "        \"type\": \"KNOWLEDGE_BASE\"\n",
        "    }\n",
        "}"
      ]
    },
    {
      "cell_type": "markdown",
      "id": "f38bd3e1",
      "metadata": {
        "id": "f38bd3e1"
      },
      "source": [
        "## Query the AWS Bedrock Knowledge Base\n",
        "\n",
        "Send a request to retrieve and generate a response based on the knowledge base."
      ]
    },
    {
      "cell_type": "code",
      "execution_count": null,
      "id": "097e0184",
      "metadata": {
        "id": "097e0184"
      },
      "outputs": [],
      "source": [
        "\n",
        "try:\n",
        "    response = runtime_client.retrieve_and_generate(\n",
        "        input=payload[\"input\"],\n",
        "        retrieveAndGenerateConfiguration=payload[\"retrieveAndGenerateConfiguration\"]\n",
        "    )\n",
        "    print(\"Raw API Response:\")\n",
        "    print(json.dumps(response, indent=4))\n",
        "except Exception as e:\n",
        "    print(\"Error during the RetrieveAndGenerate API call:\")\n",
        "    print(e)"
      ]
    },
    {
      "cell_type": "markdown",
      "id": "69ae1ddc",
      "metadata": {
        "id": "69ae1ddc"
      },
      "source": [
        "## Parse and Display Results\n",
        "\n",
        "This function formats and displays the generated response along with source citations."
      ]
    },
    {
      "cell_type": "code",
      "execution_count": 7,
      "id": "96a352c2",
      "metadata": {
        "colab": {
          "base_uri": "https://localhost:8080/"
        },
        "id": "96a352c2",
        "outputId": "0e2a26f1-755c-411f-8760-bcb47edf3d0f"
      },
      "outputs": [
        {
          "output_type": "stream",
          "name": "stdout",
          "text": [
            "\n",
            "==== Generated Answer ====\n",
            "Cole McIntosh specializes in developing cutting-edge AI systems and data solutions, with a focus on leveraging Large Language Models (LLMs) and AI agents to build intelligent, autonomous systems for complex decision-making and problem-solving.\n",
            "\n",
            "==== Citations ====\n",
            "\n",
            "Citation 1: Cole McIntosh specializes in developing cutting-edge AI systems and data solutions, with a focus on leveraging Large Language Models (LLMs) and AI agents to build intelligent, autonomous systems for complex decision-making and problem-solving.\n",
            "  - Source: https://www.colemcintosh.io/docs/cole_mcintosh_cv.pdf\n",
            "    Excerpt: Cole McIntosh     AI and Data Engineer     Foreword     I am an innovative AI and Data Engineer specializing in developing cutting-edge AI systems and data solutions. With expertise in Large Language ...\n",
            "  - Source: https://www.colemcintosh.io\n",
            "    Excerpt: Cole McIntosh ### About Me I am an innovative AI and Data Engineer based in Denver, Colorado, specializing in developing cutting-edge AI systems and data solutions. With a deep expertise in Large Lang...\n",
            "\n",
            "==== Session ID ====\n",
            "a3d784d2-de1d-43d0-af23-e3d4dbd2ee83\n"
          ]
        }
      ],
      "source": [
        "\n",
        "def display_result(result):\n",
        "    \"\"\"Formats and prints the generated response and citations.\"\"\"\n",
        "    output_text = result.get(\"output\", {}).get(\"text\", \"No response generated.\")\n",
        "    session_id = result.get(\"sessionId\", \"N/A\")\n",
        "\n",
        "    print(\"\\n==== Generated Answer ====\")\n",
        "    print(output_text)\n",
        "\n",
        "    citations = result.get(\"citations\", [])\n",
        "    if not citations:\n",
        "        print(\"\\n==== Citations ====\")\n",
        "        print(\"No citations found.\")\n",
        "    else:\n",
        "        print(\"\\n==== Citations ====\")\n",
        "        for idx, citation in enumerate(citations, start=1):\n",
        "            gen_text = citation.get(\"generatedResponsePart\", {}).get(\"textResponsePart\", {}).get(\"text\", \"\")\n",
        "            print(f\"\\nCitation {idx}: {gen_text}\")\n",
        "\n",
        "            references = citation.get(\"retrievedReferences\", [])\n",
        "            if not references:\n",
        "                print(\"  No retrieved references available.\")\n",
        "            else:\n",
        "                for ref in references:\n",
        "                    content_text = ref.get(\"content\", {}).get(\"text\", \"\")\n",
        "                    source_url = ref.get(\"location\", {}).get(\"webLocation\", {}).get(\"url\", \"N/A\")\n",
        "                    excerpt = content_text[:200] + (\"...\" if len(content_text) > 200 else \"\")\n",
        "                    print(f\"  - Source: {source_url}\")\n",
        "                    print(f\"    Excerpt: {excerpt}\")\n",
        "\n",
        "    print(\"\\n==== Session ID ====\")\n",
        "    print(session_id)\n",
        "\n",
        "# Call the function to display results\n",
        "display_result(response)"
      ]
    },
    {
      "cell_type": "markdown",
      "id": "8c961be2",
      "metadata": {
        "id": "8c961be2"
      },
      "source": [
        "# Conclusion\n",
        "\n",
        "In this notebook, we successfully:\n",
        "- Queried an AWS Bedrock Knowledge Base.\n",
        "- Retrieved a generated response.\n",
        "- Displayed citations from retrieved knowledge sources.\n",
        "\n",
        "**Next Steps:**\n",
        "- Enhance queries by refining the model's retrieval and generation configurations.\n",
        "- Implement session management to maintain conversational context.\n",
        "- Optimize knowledge base indexing for improved responses.\n",
        "\n",
        "For more details, refer to the [AWS Bedrock Guide](https://docs.aws.amazon.com/bedrock/latest/APIReference/welcome.html)."
      ]
    }
  ],
  "metadata": {
    "kernelspec": {
      "display_name": "Python 3",
      "language": "python",
      "name": "python3"
    },
    "colab": {
      "provenance": [],
      "include_colab_link": true
    }
  },
  "nbformat": 4,
  "nbformat_minor": 5
}